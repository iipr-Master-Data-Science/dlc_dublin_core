{
 "cells": [
  {
   "cell_type": "markdown",
   "metadata": {},
   "source": [
    "# CONCORD-3 - Metadata\n",
    "## Global surveillance of trends in cancer survival 2000–14\n",
    "###### Analysis of individual records for 37513025 patients diagnosed with one of 18 cancers from 322 population-based registries in 71 countries.\n",
    "\n",
    "- De Miguel González, Gerardo E.\n",
    "- Ferreño Blanco, Diego\n",
    "- Prado Rujas, Ignacio Iker\n",
    "- Ruiz Martínez, Estela\n",
    "- Zamudio López, Manuel"
   ]
  },
  {
   "cell_type": "markdown",
   "metadata": {},
   "source": [
    "## Creating metadatata with `dcxml` "
   ]
  },
  {
   "cell_type": "markdown",
   "metadata": {},
   "source": [
    "Load required library [simpledc](https://dcxml.readthedocs.io/en/latest/):"
   ]
  },
  {
   "cell_type": "code",
   "execution_count": 1,
   "metadata": {},
   "outputs": [],
   "source": [
    "from dcxml import simpledc"
   ]
  },
  {
   "cell_type": "markdown",
   "metadata": {},
   "source": [
    "This are the available namespaces:"
   ]
  },
  {
   "cell_type": "code",
   "execution_count": 2,
   "metadata": {},
   "outputs": [
    {
     "data": {
      "text/plain": [
       "{'dc': 'http://purl.org/dc/elements/1.1/',\n",
       " 'oai_dc': 'http://www.openarchives.org/OAI/2.0/oai_dc/',\n",
       " 'xml': 'xml',\n",
       " 'xsi': 'http://www.w3.org/2001/XMLSchema-instance'}"
      ]
     },
     "execution_count": 2,
     "metadata": {},
     "output_type": "execute_result"
    }
   ],
   "source": [
    "simpledc.ns"
   ]
  },
  {
   "cell_type": "markdown",
   "metadata": {},
   "source": [
    "More can be added if neccessary:"
   ]
  },
  {
   "cell_type": "code",
   "execution_count": 3,
   "metadata": {},
   "outputs": [
    {
     "data": {
      "text/plain": [
       "{'dc': 'http://purl.org/dc/elements/1.1/',\n",
       " 'oai_dc': 'http://www.openarchives.org/OAI/2.0/oai_dc/',\n",
       " 'xml': 'xml',\n",
       " 'xsi': 'http://www.w3.org/2001/XMLSchema-instance',\n",
       " 'Test': 'New namespace'}"
      ]
     },
     "metadata": {},
     "output_type": "display_data"
    }
   ],
   "source": [
    "simpledc.ns['Test'] = 'New namespace'\n",
    "display(simpledc.ns)\n",
    "# Delete it\n",
    "_ = simpledc.ns.pop('Test')"
   ]
  },
  {
   "cell_type": "markdown",
   "metadata": {},
   "source": [
    "First, we create a dictionary containing the basic set of elements comprising **Dublin Core**:"
   ]
  },
  {
   "cell_type": "code",
   "execution_count": 4,
   "metadata": {},
   "outputs": [],
   "source": [
    "metadata_dc = dict(\n",
    "    # An entity responsible for making contributions to the resource:\n",
    "    contributors = ['Gerardo E. De Miguel González',\n",
    "                    'Diego Ferreño Blanco',\n",
    "                    'Ignacio Iker Prado Rujas',\n",
    "                    'Estela Ruiz Martínez',\n",
    "                    'Manuel Zamudio López'],\n",
    "    # The spatial or temporal topic of the resource, the spatial\n",
    "    # applicability of the resource, or the jurisdiction under which \n",
    "    # the resource is relevant:\n",
    "    coverage = ['Africa', \n",
    "                'America (Central and South)', \n",
    "                'America (North)',\n",
    "                'Asia',\n",
    "                'Europe',\n",
    "                'Oceania'],\n",
    "    # An entity primarily responsible for making the resource:\n",
    "    creators = ['Cancer Survival Group',\n",
    "                'London School of Hygiene & Tropical Medicine'],\n",
    "    # A point or period of time associated with an event in the\n",
    "    # lifecycle of the resource:\n",
    "    dates = [str(i) for i in range(2000, 2015)],\n",
    "    # An account of the resource:\n",
    "    descriptions = [\"\"\"CONCORD data, divided into: Continent, Country, Registry, Year and Sex.\n",
    "                    CONCORD is the program for global surveillance of cancer survival, \n",
    "                    led by the London School of Hygiene & Tropical Medicine. The CONCORD \n",
    "                    (Global Surveillance of Cancer Survival) program is endorsed by more \n",
    "                    than 40 international agencies, including the OECD (Organization for \n",
    "                    Economic Co-operation and Development) of the WHO (World Health Organization)\n",
    "                    and the World Bank.\"\"\"],\n",
    "    # The file format, physical medium, or dimensions of the resource:\n",
    "    formats = ['data/csv'],\n",
    "    # An unambiguous reference to the resource within a given context:\n",
    "    identifiers = ['10.5281/zenodo.xxxxxxx',\n",
    "                   'CONCORD-3',\n",
    "                   'CONCORD'],\n",
    "    # A language of the resource:\n",
    "    languages = ['en'],\n",
    "    # An entity responsible for making the resource available:\n",
    "    publishers = ['London School of Hygiene & Tropical Medicine'],\n",
    "    # A related resource:\n",
    "    relations = ['https://doi.org/10.1016/S0140-6736(17)33326-3',\n",
    "                 'CONCORD',\n",
    "                 'CONCORD-2'],\n",
    "    # Information about rights held in and over the resource:\n",
    "    rights = ['Attribution-NonCommercial-ShareAlike'],\n",
    "    # A related resource from which the described resource is derived:\n",
    "    sources = ['https://csg.lshtm.ac.uk/life-tables/'],\n",
    "    # The topic of the resource:\n",
    "    subjects = ['cancer',\n",
    "               'cancer-surveillance',\n",
    "               'concord',\n",
    "               'concord-3'],\n",
    "    # A name given to the resource:\n",
    "    titles = ['CONCORD-3: Global surveillance of cancer survival'],\n",
    "    # The nature or genre of the resource:\n",
    "    types = ['data',\n",
    "             'software tools']\n",
    ")"
   ]
  },
  {
   "cell_type": "markdown",
   "metadata": {},
   "source": [
    "Now, we convert the dictionary into a string version of the `xml`:"
   ]
  },
  {
   "cell_type": "code",
   "execution_count": 5,
   "metadata": {},
   "outputs": [
    {
     "name": "stdout",
     "output_type": "stream",
     "text": [
      "<?xml version='1.0' encoding='utf-8'?>\n",
      "<oai_dc:dc xmlns:dc=\"http://purl.org/dc/elements/1.1/\" xmlns:oai_dc=\"http://www.openarchives.org/OAI/2.0/oai_dc/\" xmlns:xsi=\"http://www.w3.org/2001/XMLSchema-instance\" xsi:schemaLocation=\"http://www.openarchives.org/OAI/2.0/oai_dc/ http://www.openarchives.org/OAI/2.0/oai_dc.xsd\">\n",
      "  <dc:contributor>Gerardo E. De Miguel González</dc:contributor>\n",
      "  <dc:contributor>Diego Ferreño Blanco</dc:contributor>\n",
      "  <dc:contributor>Ignacio Iker Prado Rujas</dc:contributor>\n",
      "  <dc:contributor>Estela Ruiz Martínez</dc:contributor>\n",
      "  <dc:contributor>Manuel Zamudio López</dc:contributor>\n",
      "  <dc:coverage>Africa</dc:coverage>\n",
      "  <dc:coverage>America (Central and South)</dc:coverage>\n",
      "  <dc:coverage>America (North)</dc:coverage>\n",
      "  <dc:coverage>Asia</dc:coverage>\n",
      "  <dc:coverage>Europe</dc:coverage>\n",
      "  <dc:coverage>Oceania</dc:coverage>\n",
      "  <dc:creator>Cancer Survival Group</dc:creator>\n",
      "  <dc:creator>London School of Hygiene &amp; Tropical Medicine</dc:creator>\n",
      "  <dc:date>2000</dc:date>\n",
      "  <dc:date>2001</dc:date>\n",
      "  <dc:date>2002</dc:date>\n",
      "  <dc:date>2003</dc:date>\n",
      "  <dc:date>2004</dc:date>\n",
      "  <dc:date>2005</dc:date>\n",
      "  <dc:date>2006</dc:date>\n",
      "  <dc:date>2007</dc:date>\n",
      "  <dc:date>2008</dc:date>\n",
      "  <dc:date>2009</dc:date>\n",
      "  <dc:date>2010</dc:date>\n",
      "  <dc:date>2011</dc:date>\n",
      "  <dc:date>2012</dc:date>\n",
      "  <dc:date>2013</dc:date>\n",
      "  <dc:date>2014</dc:date>\n",
      "  <dc:description>CONCORD data, divided into: Continent, Country, Registry, Year and Sex.\n",
      "                    CONCORD is the program for global surveillance of cancer survival, \n",
      "                    led by the London School of Hygiene &amp; Tropical Medicine. The CONCORD \n",
      "                    (Global Surveillance of Cancer Survival) program is endorsed by more \n",
      "                    than 40 international agencies, including the OECD (Organization for \n",
      "                    Economic Co-operation and Development) of the WHO (World Health Organization)\n",
      "                    and the World Bank.</dc:description>\n",
      "  <dc:format>data/csv</dc:format>\n",
      "  <dc:identifier>10.5281/zenodo.xxxxxxx</dc:identifier>\n",
      "  <dc:identifier>CONCORD-3</dc:identifier>\n",
      "  <dc:identifier>CONCORD</dc:identifier>\n",
      "  <dc:language>en</dc:language>\n",
      "  <dc:publisher>London School of Hygiene &amp; Tropical Medicine</dc:publisher>\n",
      "  <dc:relation>https://doi.org/10.1016/S0140-6736(17)33326-3</dc:relation>\n",
      "  <dc:relation>CONCORD</dc:relation>\n",
      "  <dc:relation>CONCORD-2</dc:relation>\n",
      "  <dc:rights>Attribution-NonCommercial-ShareAlike</dc:rights>\n",
      "  <dc:source>https://csg.lshtm.ac.uk/life-tables/</dc:source>\n",
      "  <dc:subject>cancer</dc:subject>\n",
      "  <dc:subject>cancer-surveillance</dc:subject>\n",
      "  <dc:subject>concord</dc:subject>\n",
      "  <dc:subject>concord-3</dc:subject>\n",
      "  <dc:title>CONCORD-3: Global surveillance of cancer survival</dc:title>\n",
      "  <dc:type>data</dc:type>\n",
      "  <dc:type>software tools</dc:type>\n",
      "</oai_dc:dc>\n",
      "\n"
     ]
    }
   ],
   "source": [
    "xml = simpledc.tostring(metadata_dc)\n",
    "print(xml)"
   ]
  },
  {
   "cell_type": "markdown",
   "metadata": {},
   "source": [
    "We now convert the xml string into a `tree` from `xml.etree.ElementTree`:"
   ]
  },
  {
   "cell_type": "code",
   "execution_count": 6,
   "metadata": {},
   "outputs": [
    {
     "name": "stdout",
     "output_type": "stream",
     "text": [
      "contributor -> Gerardo E. De Miguel González\n",
      "contributor -> Diego Ferreño Blanco\n",
      "contributor -> Ignacio Iker Prado Rujas\n",
      "contributor -> Estela Ruiz Martínez\n",
      "contributor -> Manuel Zamudio López\n",
      "coverage -> Africa\n",
      "coverage -> America (Central and South)\n",
      "coverage -> America (North)\n",
      "coverage -> Asia\n",
      "coverage -> Europe\n",
      "coverage -> Oceania\n",
      "creator -> Cancer Survival Group\n",
      "creator -> London School of Hygiene & Tropical Medicine\n",
      "date -> 2000\n",
      "date -> 2001\n",
      "date -> 2002\n",
      "date -> 2003\n",
      "date -> 2004\n",
      "date -> 2005\n",
      "date -> 2006\n",
      "date -> 2007\n",
      "date -> 2008\n",
      "date -> 2009\n",
      "date -> 2010\n",
      "date -> 2011\n",
      "date -> 2012\n",
      "date -> 2013\n",
      "date -> 2014\n",
      "description -> CONCORD data, divided into: Continent, Country, Registry, Year and Sex.\n",
      "                    CONCORD is the program for global surveillance of cancer survival, \n",
      "                    led by the London School of Hygiene & Tropical Medicine. The CONCORD \n",
      "                    (Global Surveillance of Cancer Survival) program is endorsed by more \n",
      "                    than 40 international agencies, including the OECD (Organization for \n",
      "                    Economic Co-operation and Development) of the WHO (World Health Organization)\n",
      "                    and the World Bank.\n",
      "format -> data/csv\n",
      "identifier -> 10.5281/zenodo.xxxxxxx\n",
      "identifier -> CONCORD-3\n",
      "identifier -> CONCORD\n",
      "language -> en\n",
      "publisher -> London School of Hygiene & Tropical Medicine\n",
      "relation -> https://doi.org/10.1016/S0140-6736(17)33326-3\n",
      "relation -> CONCORD\n",
      "relation -> CONCORD-2\n",
      "rights -> Attribution-NonCommercial-ShareAlike\n",
      "source -> https://csg.lshtm.ac.uk/life-tables/\n",
      "subject -> cancer\n",
      "subject -> cancer-surveillance\n",
      "subject -> concord\n",
      "subject -> concord-3\n",
      "title -> CONCORD-3: Global surveillance of cancer survival\n",
      "type -> data\n",
      "type -> software tools\n"
     ]
    }
   ],
   "source": [
    "import xml.etree.ElementTree as ET\n",
    "#tree = ET.fromstring(xml)\n",
    "# To obtain a root element we use the constructor directly\n",
    "tree = ET.ElementTree(ET.fromstring(xml))\n",
    "for table in tree.getiterator('{http://www.openarchives.org/OAI/2.0/oai_dc/}dc'):\n",
    "    for child in table:\n",
    "        print(child.tag[34:], '->', child.text)"
   ]
  },
  {
   "cell_type": "markdown",
   "metadata": {},
   "source": [
    "We can add more elements to obtain an extended version of **Dublin Core**:"
   ]
  },
  {
   "cell_type": "code",
   "execution_count": 7,
   "metadata": {},
   "outputs": [
    {
     "name": "stdout",
     "output_type": "stream",
     "text": [
      "test-tag -> This is a test\n"
     ]
    }
   ],
   "source": [
    "root = tree.getroot()\n",
    "a = ET.SubElement(root, '{http://purl.org/dc/elements/1.1/}test-tag')\n",
    "a.text = 'This is a test'\n",
    "\n",
    "namespaces = {'dc': 'http://purl.org/dc/elements/1.1/'}\n",
    "test = tree.find('dc:test-tag', namespaces=namespaces)\n",
    "print(test.tag[34:], '->', test.text)"
   ]
  },
  {
   "cell_type": "markdown",
   "metadata": {},
   "source": [
    "Finally, we can save it into an `xml` file to be used in the desired repository:"
   ]
  },
  {
   "cell_type": "code",
   "execution_count": 8,
   "metadata": {},
   "outputs": [],
   "source": [
    "tree.write(open('concord-dc.xml', 'w'), encoding='unicode')"
   ]
  },
  {
   "cell_type": "markdown",
   "metadata": {},
   "source": [
    "## Automating the metadata generation"
   ]
  },
  {
   "cell_type": "markdown",
   "metadata": {},
   "source": [
    "Lets remember there are different type of resources for the CONCORD-3 project:\n",
    "\n",
    "- Raw data coming directly from the different registries from each country. \n",
    "- Aggregated and curated datasets already processed. \n",
    "- Charts and graphs produced after analysing the datasets. \n",
    "- Results and outputs (estimations and regressions) obtained from the data. \n",
    "- Publications, papers and reports explaining the results. \n",
    "\n",
    "According to this, we can distinguish 5 general metadata groups, and produce `xml` files accordingly.\n",
    "\n",
    "Since we have seen a step-by-step procedure, we can encapsulate the work into a function with a simpler interface:"
   ]
  },
  {
   "cell_type": "code",
   "execution_count": 9,
   "metadata": {},
   "outputs": [],
   "source": [
    "def update_metadata(metadata_dict, new_vals):\n",
    "    \"\"\"Update dictionary, even by modifying existing values.\"\"\"\n",
    "    #for k, v in new_vals.items():\n",
    "    #    metadata_dict[k] = v\n",
    "    # To avoid the for loop, use this built-in function:\n",
    "    metadata_dict.update(new_vals)\n",
    "    return metadata_dict\n",
    "    \n",
    "def dict_to_tree(metadata_dict):\n",
    "    \"\"\"Transform dictionary into a XML Element Tree.\"\"\"\n",
    "    return ET.ElementTree(ET.fromstring(simpledc.tostring(metadata_dict)))\n",
    "    \n",
    "def add_to_tree(tree, new_vals):\n",
    "    \"\"\"Add new values to existing XML Element Tree.\"\"\"\n",
    "    root = tree.getroot()\n",
    "    for k, v in new_vals.items():\n",
    "        for item in v:\n",
    "            elem = ET.SubElement(root, '{http://purl.org/dc/elements/1.1/}' + k)\n",
    "            elem.text = item \n",
    "            elem.tail = '\\n  '\n",
    "    return tree\n",
    "\n",
    "def save_metadata(tree, fname):\n",
    "    \"\"\"Save tree to file\"\"\"\n",
    "    tree.write(open(fname, 'w'), encoding='unicode')\n",
    "    return\n",
    "\n",
    "def process_metadata(orig_dict, dict_for_dict, dict_for_tree, fname=None):\n",
    "    \"\"\"Put everything together.\"\"\"\n",
    "    # 1st - Update existing dictionary\n",
    "    md_dict = orig_dict.copy()\n",
    "    md_dict = update_metadata(md_dict, dict_for_dict)\n",
    "\n",
    "    # 2nd - Transform dictionary into tree\n",
    "    tree = dict_to_tree(md_dict)\n",
    "\n",
    "    # 3rd - Add new elements to extend Dublin Core\n",
    "    tree = add_to_tree(tree, dict_for_tree)\n",
    "    \n",
    "    # 4th - Save to file\n",
    "    if fname is not None:\n",
    "        save_metadata(tree, fname)\n",
    "    return tree"
   ]
  },
  {
   "cell_type": "markdown",
   "metadata": {},
   "source": [
    "For example, consider a dataset containing probabilities of survival to cancer from all registries in Spain (so `coverage` is only Europe) from 2013, with a certain DOI and processed with a certain software. Then we can update the original `metadata_dc` dictionary and produce the metadata terms as follows:"
   ]
  },
  {
   "cell_type": "code",
   "execution_count": 10,
   "metadata": {},
   "outputs": [
    {
     "name": "stdout",
     "output_type": "stream",
     "text": [
      "contributor -> Gerardo E. De Miguel González\n",
      "contributor -> Diego Ferreño Blanco\n",
      "contributor -> Ignacio Iker Prado Rujas\n",
      "contributor -> Estela Ruiz Martínez\n",
      "contributor -> Manuel Zamudio López\n",
      "coverage -> Europe\n",
      "creator -> Cancer Survival Group\n",
      "creator -> London School of Hygiene & Tropical Medicine\n",
      "date -> 2013\n",
      "description -> CONCORD data, divided into: Continent, Country, Registry, Year and Sex.\n",
      "                    CONCORD is the program for global surveillance of cancer survival, \n",
      "                    led by the London School of Hygiene & Tropical Medicine. The CONCORD \n",
      "                    (Global Surveillance of Cancer Survival) program is endorsed by more \n",
      "                    than 40 international agencies, including the OECD (Organization for \n",
      "                    Economic Co-operation and Development) of the WHO (World Health Organization)\n",
      "                    and the World Bank.\n",
      "format -> data/csv\n",
      "identifier -> 10.5281/zenodo.SPxxxxx\n",
      "identifier -> CONCORD-3\n",
      "identifier -> CONCORD\n",
      "language -> en\n",
      "publisher -> London School of Hygiene & Tropical Medicine\n",
      "relation -> https://doi.org/10.1016/S0140-6736(17)33326-3\n",
      "relation -> CONCORD\n",
      "relation -> CONCORD-2\n",
      "rights -> Attribution-NonCommercial-ShareAlike\n",
      "source -> https://csg.lshtm.ac.uk/life-tables/\n",
      "subject -> cancer\n",
      "subject -> cancer-surveillance\n",
      "subject -> concord\n",
      "subject -> concord-3\n",
      "title -> CONCORD-3: Global surveillance of cancer survival\n",
      "type -> data\n",
      "Country -> Spain\n",
      "Registry -> Albacete\n",
      "Registry -> Asturias\n",
      "Registry -> Basque Country\n",
      "Registry -> Canaries\n",
      "Registry -> Cuenca Spain\n",
      "Registry -> Girona\n",
      "Registry -> Granada\n",
      "Registry -> Mallorca\n",
      "Registry -> Murcia\n",
      "Registry -> NavarraSpain Childhood\n",
      "Registry -> Tarragona\n",
      "Registry -> Valencia Childhood\n",
      "Analyzer -> scikit-learn\n",
      "Analyzer -> 0.20.2\n"
     ]
    }
   ],
   "source": [
    "raw_dict = {\n",
    "    'coverage': ['Europe'],\n",
    "    'dates': ['2013'],\n",
    "    'types': ['data'],\n",
    "    'identifiers': ['10.5281/zenodo.SPxxxxx', 'CONCORD-3', 'CONCORD']\n",
    "}\n",
    "raw_tree = {\n",
    "    'Country': ['Spain'],\n",
    "    'Registry': ['Albacete', 'Asturias', 'Basque Country',\n",
    "                 'Canaries', 'Cuenca Spain', 'Girona', \n",
    "                 'Granada', 'Mallorca', 'Murcia', 'Navarra'\n",
    "                 'Spain Childhood', 'Tarragona', 'Valencia Childhood'],\n",
    "    'Analyzer': ['scikit-learn', '0.20.2']\n",
    "}\n",
    "fname = 'concord-Spain.xml'\n",
    "# Remember we have basic metadata elements in this dict -> metadata_dc\n",
    "t = process_metadata(metadata_dc, raw_dict, raw_tree, fname=fname)\n",
    "\n",
    "# Check results:\n",
    "loaded_tree = ET.parse(fname)\n",
    "for table in loaded_tree.getroot().getiterator():\n",
    "    for child in table:\n",
    "        print(child.tag[34:], '->', child.text)"
   ]
  },
  {
   "cell_type": "markdown",
   "metadata": {},
   "source": [
    "Now it is straighforward to extend this for a chart, for instace:"
   ]
  },
  {
   "cell_type": "code",
   "execution_count": 11,
   "metadata": {},
   "outputs": [
    {
     "name": "stdout",
     "output_type": "stream",
     "text": [
      "contributor -> Gerardo E. De Miguel González\n",
      "contributor -> Diego Ferreño Blanco\n",
      "contributor -> Ignacio Iker Prado Rujas\n",
      "contributor -> Estela Ruiz Martínez\n",
      "contributor -> Manuel Zamudio López\n",
      "coverage -> Oceania\n",
      "creator -> Cancer Survival Group\n",
      "creator -> London School of Hygiene & Tropical Medicine\n",
      "date -> 2010\n",
      "description -> CONCORD data, divided into: Continent, Country, Registry, Year and Sex.\n",
      "                    CONCORD is the program for global surveillance of cancer survival, \n",
      "                    led by the London School of Hygiene & Tropical Medicine. The CONCORD \n",
      "                    (Global Surveillance of Cancer Survival) program is endorsed by more \n",
      "                    than 40 international agencies, including the OECD (Organization for \n",
      "                    Economic Co-operation and Development) of the WHO (World Health Organization)\n",
      "                    and the World Bank.\n",
      "format -> data/csv\n",
      "identifier -> 10.4975/zenodo.AUxxxxx\n",
      "identifier -> CONCORD-3\n",
      "identifier -> CONCORD\n",
      "language -> en\n",
      "publisher -> London School of Hygiene & Tropical Medicine\n",
      "relation -> https://doi.org/10.1016/S0140-6736(17)33326-3\n",
      "relation -> CONCORD\n",
      "relation -> CONCORD-2\n",
      "rights -> Attribution-NonCommercial-ShareAlike\n",
      "source -> https://csg.lshtm.ac.uk/life-tables/\n",
      "subject -> cancer\n",
      "subject -> cancer-surveillance\n",
      "subject -> concord\n",
      "subject -> concord-3\n",
      "title -> CONCORD-3: Global surveillance of cancer survival\n",
      "type -> chart\n",
      "type -> kde\n",
      "Country -> Australia\n",
      "Registry -> Australian Capital Territory\n",
      "Registry -> New South Wales\n",
      "Registry -> Northern Territory\n",
      "Registry -> Queensland\n",
      "Registry -> South Australia\n",
      "Registry -> Tasmania\n",
      "Registry -> Victoria\n",
      "Registry -> Western Australia\n",
      "Analyzer -> seaborn\n",
      "Analyzer -> 0.9.0\n",
      "Chart-type -> violin-plot\n"
     ]
    }
   ],
   "source": [
    "raw_dict = {\n",
    "    'coverage': ['Oceania'],\n",
    "    'dates': ['2010'],\n",
    "    'types': ['chart', 'kde'],\n",
    "    'identifiers': ['10.4975/zenodo.AUxxxxx', 'CONCORD-3', 'CONCORD']\n",
    "}\n",
    "raw_tree = {\n",
    "    'Country': ['Australia'],\n",
    "    'Registry': ['Australian Capital Territory', 'New South Wales', \n",
    "                 'Northern Territory', 'Queensland', \n",
    "                 'South Australia', 'Tasmania', \n",
    "                 'Victoria', 'Western Australia'],\n",
    "    'Analyzer': ['seaborn', '0.9.0'],\n",
    "    'Chart-type': ['violin-plot']\n",
    "}\n",
    "fname = 'concord-Australia.xml'\n",
    "# Remember we have basic metadata elements in this dict -> metadata_dc\n",
    "t = process_metadata(metadata_dc, raw_dict, raw_tree, fname=fname)\n",
    "\n",
    "# Check results:\n",
    "loaded_tree = ET.parse(fname)\n",
    "for table in loaded_tree.getroot().getiterator():\n",
    "    for child in table:\n",
    "        print(child.tag[34:], '->', child.text)"
   ]
  },
  {
   "cell_type": "markdown",
   "metadata": {},
   "source": [
    "## Summary"
   ]
  },
  {
   "cell_type": "markdown",
   "metadata": {},
   "source": [
    "To cut a long story short, in this notebook we have developed the necessary infraestructure to easily automatize the creation of metadata for all resources produced throughout the life cycle of the CONCORD-3 project."
   ]
  }
 ],
 "metadata": {
  "kernelspec": {
   "display_name": "Python 3",
   "language": "python",
   "name": "python3"
  },
  "language_info": {
   "codemirror_mode": {
    "name": "ipython",
    "version": 3
   },
   "file_extension": ".py",
   "mimetype": "text/x-python",
   "name": "python",
   "nbconvert_exporter": "python",
   "pygments_lexer": "ipython3",
   "version": "3.7.0"
  },
  "latex_envs": {
   "LaTeX_envs_menu_present": true,
   "autoclose": false,
   "autocomplete": true,
   "bibliofile": "biblio.bib",
   "cite_by": "apalike",
   "current_citInitial": 1,
   "eqLabelWithNumbers": true,
   "eqNumInitial": 1,
   "hotkeys": {
    "equation": "Ctrl-E",
    "itemize": "Ctrl-I"
   },
   "labels_anchors": false,
   "latex_user_defs": false,
   "report_style_numbering": false,
   "user_envs_cfg": false
  },
  "toc": {
   "base_numbering": 1,
   "nav_menu": {},
   "number_sections": true,
   "sideBar": true,
   "skip_h1_title": false,
   "title_cell": "Table of Contents",
   "title_sidebar": "Contents",
   "toc_cell": false,
   "toc_position": {},
   "toc_section_display": true,
   "toc_window_display": true
  }
 },
 "nbformat": 4,
 "nbformat_minor": 2
}
